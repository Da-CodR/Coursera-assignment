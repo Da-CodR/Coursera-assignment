{
 "cells": [
  {
   "cell_type": "markdown",
   "id": "8e59fd1a-8b51-4c49-b16f-2018f83177a2",
   "metadata": {},
   "source": [
    "# Coursera Assignment"
   ]
  },
  {
   "cell_type": "markdown",
   "id": "03838ec8-f0a7-4623-ac3f-0f6700f1c298",
   "metadata": {},
   "source": [
    "## Introduction\n",
    "### This notebook covers variety of assignments related to data science"
   ]
  },
  {
   "cell_type": "markdown",
   "id": "12df51c7-c909-4eca-96e0-351e5056b82f",
   "metadata": {},
   "source": [
    "## Data Science Languages\n",
    "\n",
    "Here are some of the programming languages commonly used in data science:\n",
    "\n",
    "- Python\n",
    "- R\n",
    "- SQL\n",
    "- Julia\n",
    "- Scala\n"
   ]
  },
  {
   "cell_type": "markdown",
   "id": "30dea8d1-6100-4a8c-81e9-a9f11fe9aad8",
   "metadata": {},
   "source": [
    "## Data Science Libraries\n",
    "\n",
    "These are some of the most widely-used libraries in data science:\n",
    "\n",
    "- Pandas\n",
    "- NumPy\n",
    "- Matplotlib\n",
    "- Scikit-learn\n",
    "- TensorFlow\n",
    "- Keras\n",
    "- Seaborn\n"
   ]
  },
  {
   "cell_type": "markdown",
   "id": "f28a9d1c-8d01-4698-8bec-a1bc87ff06ec",
   "metadata": {},
   "source": [
    "## Data Science Tools\n",
    "\n",
    "Here is a table listing various tools used in data science:\n",
    "\n",
    "| Tool        | Description                                |\n",
    "|-------------|--------------------------------------------|\n",
    "| Jupyter     | An open-source web application for creating and sharing documents that contain live code. |\n",
    "| GitHub      | A platform for version control and collaboration using Git. |\n",
    "| TensorFlow  | An open-source framework for machine learning and artificial intelligence. |\n",
    "| RStudio     | An integrated development environment (IDE) for R programming language. |\n",
    "| Apache Spark| A fast, in-memory data processing engine for large-scale data analysis. |\n"
   ]
  },
  {
   "cell_type": "markdown",
   "id": "9b66ca9b-f633-4efd-b083-292ba68e6ce3",
   "metadata": {},
   "source": [
    "## Arithmetic Expression Examples\n",
    "\n",
    "In this section, we will explore some basic arithmetic operations like addition, multiplication, and conversion between time units.\n"
   ]
  },
  {
   "cell_type": "code",
   "execution_count": 1,
   "id": "f6fd9c46-fc82-4617-8260-8e88b1004832",
   "metadata": {},
   "outputs": [
    {
     "data": {
      "text/plain": [
       "(50, 15)"
      ]
     },
     "execution_count": 1,
     "metadata": {},
     "output_type": "execute_result"
    }
   ],
   "source": [
    "# Arithmetic Operations: Multiplication and Addition\n",
    "\n",
    "a = 5\n",
    "b = 10\n",
    "\n",
    "# Multiplication\n",
    "multiplication_result = a * b\n",
    "\n",
    "# Addition\n",
    "addition_result = a + b\n",
    "\n",
    "multiplication_result, addition_result\n"
   ]
  },
  {
   "cell_type": "code",
   "execution_count": 2,
   "id": "32109590-2ef7-4a4b-bdfc-7415ec405960",
   "metadata": {},
   "outputs": [
    {
     "data": {
      "text/plain": [
       "2.0"
      ]
     },
     "execution_count": 2,
     "metadata": {},
     "output_type": "execute_result"
    }
   ],
   "source": [
    "# Convert Minutes to Hours\n",
    "\n",
    "minutes = 120\n",
    "hours = minutes / 60\n",
    "hours\n"
   ]
  },
  {
   "cell_type": "markdown",
   "id": "16039ca5-6eaa-4550-bf86-2fa5180e0114",
   "metadata": {},
   "source": [
    "## Objectives\n",
    "\n",
    "The objectives of this notebook are:\n",
    "\n",
    "- To demonstrate the usage of various data science tools, languages, and libraries.\n",
    "- To showcase simple arithmetic operations and their implementations in Python.\n",
    "- To provide a practical guide to some of the basic concepts in data science.\n"
   ]
  },
  {
   "cell_type": "markdown",
   "id": "d52574ff-ddf4-45cf-88d4-dded90754433",
   "metadata": {},
   "source": [
    "## Author\n",
    "\n",
    "This notebook was created by Pritish Meshram"
   ]
  },
  {
   "cell_type": "code",
   "execution_count": null,
   "id": "1384b700-7ac1-41f1-889b-80e23cb6d9b2",
   "metadata": {},
   "outputs": [],
   "source": []
  }
 ],
 "metadata": {
  "kernelspec": {
   "display_name": "Python 3 (ipykernel)",
   "language": "python",
   "name": "python3"
  },
  "language_info": {
   "codemirror_mode": {
    "name": "ipython",
    "version": 3
   },
   "file_extension": ".py",
   "mimetype": "text/x-python",
   "name": "python",
   "nbconvert_exporter": "python",
   "pygments_lexer": "ipython3",
   "version": "3.12.7"
  }
 },
 "nbformat": 4,
 "nbformat_minor": 5
}
